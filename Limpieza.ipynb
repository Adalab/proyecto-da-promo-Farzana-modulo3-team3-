{
 "cells": [
  {
   "cell_type": "markdown",
   "metadata": {},
   "source": [
    "# Limpieza de DF de Proyecto"
   ]
  },
  {
   "cell_type": "markdown",
   "metadata": {},
   "source": [
    "## Limpieza\n",
    "\n",
    "Acordar estandarización de booleanos : Y/N, F/M \n",
    "Todo en minuscula y _ en vez de espacios\n",
    "\n",
    "1. La columna Gender tiene valores de 0 y 1, los cuales son pocos intutitivos. Los podrías reemplazar por \"Male\" y \"Female\".\n",
    "2. Algunas columnas, como la columna DailyRate son columnas que incluyen valores numéricos decimales. Pero en el DataFrame aparece como columna de tipo string. Deberás ahcer los cambios necesarios para convertirla en columna de tipo numérica.\n",
    "3. Evaluar si hay valores duplicados y analizar si tiene sentido eliminarlos o mantenerlos\n",
    "4. Valores inconsistentes, por ejemplo en la columna DistanceFromHome tiene valores negativos.\n",
    "5. Errores tipográficos en algunos valores de las columnas categóricas. Por ejemplo, en la columna MaritalStatus en vez de \"Married\" en algunas filas aparece \"Marreid\".\n",
    "6. Columnas redundantes, es decir, columnas que nos dan la misma información expresada de forma diferente.\n",
    "\n",
    "8. NumberChildren son todos nulos. ¿Eliminar?\n",
    "9. Redondear a dos decimales (DistanceFromHome...)\n",
    "10. DistanceFromHome numero negativo\n",
    "11. EmployeeNumber tiene nulos, ¿id + indice?\n",
    "12. Todos los salarios  quitar $ y pasar tipo a int\n",
    "13. JobRole estandarizar mayusculas\n",
    "14. Salario no válido, cantidad\n",
    "15. RemoteWork estandarizar datos: s/n\n",
    "16. DateBirth cambiar a Year\n",
    "17. WorkLifeBalance quitar decimal"
   ]
  },
  {
   "cell_type": "code",
   "execution_count": 1,
   "metadata": {},
   "outputs": [],
   "source": [
    "import pandas as pd\n",
    "import numpy as np"
   ]
  },
  {
   "cell_type": "code",
   "execution_count": 2,
   "metadata": {},
   "outputs": [],
   "source": [
    "rh  = pd.read_csv(\"HR_RAW_DATA.csv\", index_col = 0)\n",
    "pd.set_option(\"display.max.columns\", None)"
   ]
  },
  {
   "cell_type": "code",
   "execution_count": null,
   "metadata": {},
   "outputs": [],
   "source": []
  },
  {
   "cell_type": "code",
   "execution_count": null,
   "metadata": {},
   "outputs": [],
   "source": [
    "# Estandarizamos los nombres de columnas: todo en minúsculas y espacios como _"
   ]
  },
  {
   "cell_type": "code",
   "execution_count": null,
   "metadata": {},
   "outputs": [],
   "source": [
    "# Primer paso: las columnas de todo en mayuscula, pasamos a Camel\n",
    "\n",
    "rh."
   ]
  },
  {
   "cell_type": "code",
   "execution_count": null,
   "metadata": {},
   "outputs": [],
   "source": [
    "# Segundo paso: las todo en minuscula, añadir barra baja separadora\n",
    "\n"
   ]
  }
 ],
 "metadata": {
  "kernelspec": {
   "display_name": "base",
   "language": "python",
   "name": "python3"
  },
  "language_info": {
   "codemirror_mode": {
    "name": "ipython",
    "version": 3
   },
   "file_extension": ".py",
   "mimetype": "text/x-python",
   "name": "python",
   "nbconvert_exporter": "python",
   "pygments_lexer": "ipython3",
   "version": "3.9.7"
  }
 },
 "nbformat": 4,
 "nbformat_minor": 2
}
