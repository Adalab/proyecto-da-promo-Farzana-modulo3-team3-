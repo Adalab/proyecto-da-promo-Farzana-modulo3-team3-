{
 "cells": [
  {
   "cell_type": "markdown",
   "metadata": {},
   "source": [
    "## Descripción de las columnas del DataFrame HR_RAW_DATA:\n",
    "\n",
    "\n",
    "- Age: La edad del empleado.\n",
    "- Attrition: Indica si el empleado ha dejado la empresa (\"No\" significa que no ha dejado la empresa y \"Yes\" significa que ha dejado la empresa).\n",
    "- BusinessTravel: Describe la frecuencia de los viajes relacionados con el trabajo del empleado (por ejemplo, \"Travel_Rarely\" para raramente).\n",
    "- DailyRate: La tarifa diaria del empleado.\n",
    "- Department: El departamento en el que trabaja el empleado (por ejemplo, \"Research & Development\", \"Sales\", etc.).\n",
    "- DistanceFromHome: La distancia desde el hogar del empleado hasta su lugar de trabajo.\n",
    "- Education: Nivel de educación del empleado (generalmente en una escala del 1 al 5).\n",
    "- EducationField: El campo de educación del empleado.\n",
    "- EmployeeCount: Un contador que generalmente es 1 y se usa para contar empleados.\n",
    "- EmployeeNumber: Un número de identificación único para el empleado.\n",
    "- EnvironmentSatisfaction: Nivel de satisfacción del empleado en relación con su entorno de trabajo. Con valores que estan comprendidos entre el 1 y el 4, siendo el 4 el nivel de máxima satisfacción.\n",
    "- Gender: El género del empleado. Donde 0 corresponde con \"hombre\" y 1 con \"mujer\".\n",
    "- HourlyRate: La tarifa por hora del empleado.\n",
    "- JobInvolvement: Nivel de implicación del empleado en su trabajo.\n",
    "- JobLevel: Nivel jerárquico del empleado en la empresa.\n",
    "- JobRole: El rol o puesto de trabajo del empleado.\n",
    "- JobSatisfaction: Nivel de satisfacción del empleado con su trabajo.\n",
    "- MaritalStatus: El estado civil del empleado (por ejemplo, \"Single\", \"Married\", etc.).\n",
    "- MonthlyIncome: Ingresos mensuales del empleado.\n",
    "- MonthlyRate: Tasa mensual del empleado.\n",
    "- NumCompaniesWorked: Número de compañías en las que el empleado ha trabajado.\n",
    "- Over18: Indica si el empleado es mayor de 18 años.\n",
    "- OverTime: Indica si el empleado trabaja horas extras (\"Yes\" para sí o \"No\" para no).\n",
    "- PercentSalaryHike: El porcentaje de aumento salarial del empleado.\n",
    "- PerformanceRating: Calificación de rendimiento del empleado.\n",
    "- RelationshipSatisfaction: Nivel de satisfacción en las relaciones interpersonales del empleado.\n",
    "- StandardHours: Las horas estándar de trabajo.\n",
    "- StockOptionLevel: Nivel de opciones de compra de acciones del empleado.\n",
    "- TotalWorkingYears: Total de años de experiencia laboral del empleado.\n",
    "- TrainingTimesLastYear: Número de veces que el empleado recibió capacitación el año pasado.\n",
    "- WorkLifeBalance: Equilibrio entre trabajo y vida personal del empleado.\n",
    "- YearsAtCompany: Años que el empleado ha trabajado en la empresa actual.\n",
    "- YearsInCurrentRole: Años que el empleado ha estado en su puesto actual.\n",
    "- YearsSinceLastPromotion: Años desde la última promoción del empleado.\n",
    "- YearsWithCurrManager: Años que el empleado ha estado bajo la supervisión del actual gerente.\n",
    "- SameAsMonthlyIncome: Ingresos mensuales del empleado.\n",
    "- DateBirth: Año de nacimiento del empleado (teniendo en cuenta que los datos fueron recogidos en el 2023)\n",
    "- Salary: Salario de los empleados.\n",
    "- RoleDepartament: El departamento y el rol del empleado.\n",
    "- NumberChildren: Número de hijos de los empleados.\n",
    "- RemoteWork: Si el empleado puede teletrabajar o no."
   ]
  },
  {
   "cell_type": "code",
   "execution_count": null,
   "metadata": {},
   "outputs": [],
   "source": []
  }
 ],
 "metadata": {
  "language_info": {
   "name": "python"
  }
 },
 "nbformat": 4,
 "nbformat_minor": 2
}
