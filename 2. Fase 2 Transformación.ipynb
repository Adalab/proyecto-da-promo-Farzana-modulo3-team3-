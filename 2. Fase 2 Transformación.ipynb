{
 "cells": [
  {
   "cell_type": "markdown",
   "metadata": {},
   "source": [
    "# Limpieza de DF de Proyecto"
   ]
  },
  {
   "cell_type": "markdown",
   "metadata": {},
   "source": [
    "Importamos las librerías necesarias"
   ]
  },
  {
   "cell_type": "code",
   "execution_count": null,
   "metadata": {},
   "outputs": [],
   "source": [
    "import pandas as pd\n",
    "import numpy as np\n",
    "import re"
   ]
  },
  {
   "cell_type": "markdown",
   "metadata": {},
   "source": [
    "Leemos el .csv y mostramos todas las columnas"
   ]
  },
  {
   "cell_type": "code",
   "execution_count": null,
   "metadata": {},
   "outputs": [],
   "source": [
    "rh  = pd.read_csv(\"datos_limpios.csv\", index_col = 0)\n",
    "pd.set_option(\"display.max.columns\", None)\n",
    "#pd.set_option(\"display.max.rows\", None)"
   ]
  },
  {
   "cell_type": "markdown",
   "metadata": {},
   "source": [
    "Estandarizamos los nombres de columnas: todo en minúsculas y espacios como _\n"
   ]
  },
  {
   "cell_type": "code",
   "execution_count": null,
   "metadata": {},
   "outputs": [],
   "source": [
    "# Primer paso: las columnas de todo en mayuscula, pasamos a minúsculas y separamos las palabras#\n",
    "\n",
    "rh.rename(columns={'NUMCOMPANIESWORKED':'num_companies_worked', 'TOTALWORKINGYEARS':'total_working_years', 'WORKLIFEBALANCE':'work_life_balance','YEARSWITHCURRMANAGER':'years_with_curr_manager','NUMBERCHILDREN':'number_children'},inplace = True)"
   ]
  },
  {
   "cell_type": "code",
   "execution_count": null,
   "metadata": {},
   "outputs": [],
   "source": [
    "# Segundo paso:todo en minuscula, añadir barra baja separadora\n",
    "\n",
    "# Patrón regex para identificar la transición de minúsculas a mayúsculas\n",
    "patron = '(?<=[a-z])(?=[A-Z])'\n",
    "\n",
    "# Diccionario para almacenar los nuevos nombres de columna\n",
    "columnas = {column: re.sub(patron,'_', column) for column in rh.columns}\n",
    "\n",
    "# Renombrar las columnas usando los nuevos nombres\n",
    "rh.rename(columns=columnas, inplace=True)\n",
    "\n",
    "# Convertir los nombres de las columnas a minúsculas\n",
    "rh.columns = [columna.lower() for columna in rh.columns]\n",
    "\n",
    "#cambiamos manualmente el nombre de una columna\n",
    "rh.rename(columns = {'employeenumber': 'employee_number', 'employeecount' : 'employee_count'}, inplace = True )"
   ]
  },
  {
   "cell_type": "markdown",
   "metadata": {},
   "source": [
    "Estandarizamos booleanos : general: Y/N, genre: F/M"
   ]
  },
  {
   "cell_type": "code",
   "execution_count": null,
   "metadata": {},
   "outputs": [],
   "source": [
    "# Para género\n",
    "rh[\"gender\"].replace(to_replace = [0,1], value = ['M', 'F'], inplace = True)"
   ]
  },
  {
   "cell_type": "code",
   "execution_count": null,
   "metadata": {},
   "outputs": [],
   "source": [
    "#Para Y/N\n",
    "rh[\"over18\"].replace(to_replace = [0,1], value = ['N', 'Y'], inplace = True)\n",
    "rh[[\"attrition\", \"over_time\"]]= rh[[\"attrition\", \"over_time\"]].replace(to_replace = [\"No\",\"Yes\"], value = ['N', 'Y']) #Borrar"
   ]
  },
  {
   "cell_type": "code",
   "execution_count": null,
   "metadata": {},
   "outputs": [],
   "source": [
    "\n",
    "rh[\"remote_work\"].replace(to_replace = [\"0\",\"1\"], value = ['N', 'Y'], inplace = True)\n",
    "rh[\"remote_work\"].replace(to_replace = [\"No\",\"Yes\"], value = ['N', 'Y'], inplace = True)\n",
    "rh[\"remote_work\"].replace(to_replace = [\"False\",\"True\"], value = ['N', 'Y'], inplace = True)"
   ]
  },
  {
   "cell_type": "markdown",
   "metadata": {},
   "source": [
    "Eliminamos las columnas no necesarias."
   ]
  },
  {
   "cell_type": "code",
   "execution_count": null,
   "metadata": {},
   "outputs": [],
   "source": [
    "# .drop standard_hours, number_children, salary, over18, employee_count\n",
    "rh.drop(labels=[\"standard_hours\", \"number_children\", \"salary\", \"over18\", \"employee_count\", \"years_in_current_role\", \"same_as_monthly_income\", \"date_birth\"], axis = 1, inplace=True)"
   ]
  },
  {
   "cell_type": "markdown",
   "metadata": {},
   "source": [
    "Estandarizamos todos los valores en camel"
   ]
  },
  {
   "cell_type": "code",
   "execution_count": null,
   "metadata": {},
   "outputs": [],
   "source": [
    "def camelizar (dato):\n",
    "\n",
    "    try:\n",
    "        return dato.title()\n",
    "    except:\n",
    "        return dato\n",
    "    \n",
    "columnas_object_camel = [\"age\",\"attrition\",\"business_travel\",\"daily_rate\",\"department\",\"education_field\",\"employee_number\",\"hourly_rate\",\"job_role\",\"marital_status\",\"monthly_income\",\"over_time\",\"performance_rating\",\"total_working_years\",\"work_life_balance\",\"role_departament\",\"remote_work\"]\n",
    "\n",
    "for columnas in columnas_object_camel:\n",
    "    rh[columnas]=rh[columnas].apply(camelizar)\n"
   ]
  },
  {
   "cell_type": "markdown",
   "metadata": {},
   "source": [
    "Cambiamos comas por puntos en WorkLifeBalance, performace_rating y monthly_income quitar comas"
   ]
  },
  {
   "cell_type": "code",
   "execution_count": null,
   "metadata": {},
   "outputs": [],
   "source": [
    "columnas_sin_comas = ['work_life_balance','performance_rating','monthly_income']\n",
    "for columna in columnas_sin_comas:\n",
    "    rh[columna] = rh[columna].str.replace(\",\",\".\")\n"
   ]
  },
  {
   "cell_type": "markdown",
   "metadata": {},
   "source": [
    "De las columnas de salario quitamos $ y pasamos a tipo a int"
   ]
  },
  {
   "cell_type": "code",
   "execution_count": null,
   "metadata": {},
   "outputs": [],
   "source": [
    "columnas_sin_dollar = ['daily_rate']\n",
    "for columna in columnas_sin_dollar:\n",
    "    rh[columna] = rh[columna].str.replace('$','').str.replace(\",\",\".\")\n",
    "\n",
    "rh[columna]\n",
    "rh[\"daily_rate\"]= rh[\"daily_rate\"].astype(float)"
   ]
  },
  {
   "cell_type": "markdown",
   "metadata": {},
   "source": [
    "Sustituimos el Not Available por nan en hourly_rate y convertimos a float:"
   ]
  },
  {
   "cell_type": "code",
   "execution_count": null,
   "metadata": {},
   "outputs": [],
   "source": [
    "# hourly_date\n",
    "rh['hourly_rate']=rh['hourly_rate'].replace('Not Available', np.nan)\n",
    "rh['hourly_rate']=rh['hourly_rate'].astype('float', errors='ignore')"
   ]
  },
  {
   "cell_type": "markdown",
   "metadata": {},
   "source": [
    "Pasamos a float las columnas de monthly_income, performance_rating y work_life_balance (las demás object). daily_rate(float64) "
   ]
  },
  {
   "cell_type": "code",
   "execution_count": null,
   "metadata": {},
   "outputs": [],
   "source": [
    "def pasar_a_float(elemento):\n",
    "    try:\n",
    "        return float(elemento)\n",
    "    except (ValueError, TypeError):\n",
    "        return np.NaN\n",
    "\n",
    "lista_columnas = ['monthly_income', 'performance_rating', 'work_life_balance'] \n",
    "\n",
    "for columna in lista_columnas:\n",
    "    rh[columna] = rh[columna].apply(pasar_a_float).astype('float')\n",
    "\n",
    "# replace de not available por numpyNaN #especificar el texto que sale \n",
    "# gestion de nulos\n",
    "# conversión"
   ]
  },
  {
   "cell_type": "markdown",
   "metadata": {},
   "source": [
    "Comprobamos los porcentajes de nulos"
   ]
  },
  {
   "cell_type": "code",
   "execution_count": null,
   "metadata": {},
   "outputs": [],
   "source": [
    "info_columnas = pd.concat([(rh.isnull().sum() / rh.shape[0]) * 100, rh.dtypes], axis=1)\n",
    "info_columnas.columns = ['Porcentaje de Nulos','Tipos de Columnas']\n",
    "info_columnas"
   ]
  },
  {
   "cell_type": "markdown",
   "metadata": {},
   "source": [
    "Corregimos errores tipográficos en algunos valores de las columnas categóricas. Por ejemplo, en la columna MaritalStatus en vez de \"Married\" en algunas filas aparece \"Marreid\"."
   ]
  },
  {
   "cell_type": "code",
   "execution_count": null,
   "metadata": {},
   "outputs": [],
   "source": [
    "rh['marital_status']= rh['marital_status'].replace({'Marreid':'Married'})\n"
   ]
  },
  {
   "cell_type": "markdown",
   "metadata": {},
   "source": [
    "Eliminamos valores negativos de distance_from_home"
   ]
  },
  {
   "cell_type": "code",
   "execution_count": null,
   "metadata": {},
   "outputs": [],
   "source": [
    "rh[\"distance_from_home\"] = rh[\"distance_from_home\"].where(rh[\"distance_from_home\"] >= 0, np.nan)\n",
    "\n",
    "#No admite NaN en columnas int, tienen que ser float, por lo que ha añadido .0 y no se puede cambiar, exige entonces cambiar los NaN \n"
   ]
  },
  {
   "cell_type": "markdown",
   "metadata": {},
   "source": [
    "Cambiamos a float la columna total_working_years"
   ]
  },
  {
   "cell_type": "code",
   "execution_count": null,
   "metadata": {},
   "outputs": [],
   "source": [
    "rh['total_working_years'] = rh['total_working_years'].str.replace(\",\", \".\")\n",
    "\n",
    "rh['total_working_years'] = rh['total_working_years'].astype(float)\n"
   ]
  },
  {
   "cell_type": "markdown",
   "metadata": {},
   "source": [
    "Cambiamos los nulos de marital_status por unknown"
   ]
  },
  {
   "cell_type": "code",
   "execution_count": null,
   "metadata": {},
   "outputs": [],
   "source": [
    "rh['marital_status'] = rh['marital_status'].replace(np.nan,'Unknown', regex = True)"
   ]
  },
  {
   "cell_type": "markdown",
   "metadata": {},
   "source": [
    "Cambiamos los nulos de worklife_balance y performace_rating por la moda"
   ]
  },
  {
   "cell_type": "code",
   "execution_count": null,
   "metadata": {},
   "outputs": [],
   "source": [
    "media = rh['work_life_balance'].mean()\n",
    "moda = rh['work_life_balance'].mode()[0]  \n",
    "print(f'La media es {media}')\n",
    "print(f'La moda es {moda}')"
   ]
  },
  {
   "cell_type": "code",
   "execution_count": null,
   "metadata": {},
   "outputs": [],
   "source": [
    "rh['work_life_balance'] = rh['work_life_balance'].fillna(moda)\n",
    "\n",
    "rh['work_life_balance'].isnull().sum()"
   ]
  },
  {
   "cell_type": "markdown",
   "metadata": {},
   "source": [
    "Quitamos el segundo dígito de environment_satisfaction"
   ]
  },
  {
   "cell_type": "code",
   "execution_count": null,
   "metadata": {},
   "outputs": [],
   "source": [
    "rh['environment_satisfaction'] = rh['environment_satisfaction'].apply(lambda x: x // 10 if x > 9 else x)"
   ]
  },
  {
   "cell_type": "markdown",
   "metadata": {},
   "source": [
    "Borramos columnas con una cantidad de nulos que supera nuestro estandar"
   ]
  },
  {
   "cell_type": "code",
   "execution_count": null,
   "metadata": {},
   "outputs": [],
   "source": [
    "columnas = ['business_travel', 'employee_number' , 'monthly_income', 'over_time', 'department', 'education_field', 'role_departament', 'daily_rate', 'hourly_rate']\n",
    "\n",
    "rh.drop(columnas, axis = 1, inplace = True)"
   ]
  },
  {
   "cell_type": "markdown",
   "metadata": {},
   "source": [
    "Cambiamos las cifras de age que están en letra por su número correspondiente"
   ]
  },
  {
   "cell_type": "code",
   "execution_count": null,
   "metadata": {},
   "outputs": [],
   "source": [
    "rh['age'] = rh['age'].replace(\"Forty-Seven\", \"47\")\n",
    "rh['age'] = rh['age'].replace(\"Fifty-Eight\", \"58\")\n",
    "rh['age'] = rh['age'].replace(\"Thirty-Six\", \"36\")\n",
    "rh['age'] = rh['age'].replace(\"Fifty-Five\", \"55\")\n",
    "rh['age'] = rh['age'].replace(\"Fifty-Two\", \"52\")\n",
    "rh['age'] = rh['age'].replace(\"Thirty-One\", \"31\")\n",
    "rh['age'] = rh['age'].replace(\"Thirty\", \"30\")\n",
    "rh['age'] = rh['age'].replace(\"Twenty-Six\", \"26\")\n",
    "rh['age'] = rh['age'].replace(\"Thirty-Seven\", \"37\")\n",
    "rh['age'] = rh['age'].replace(\"Thirty-Two\", \"32\")\n",
    "rh['age'] = rh['age'].replace(\"Twenty-Four\", \"24\")"
   ]
  },
  {
   "cell_type": "markdown",
   "metadata": {},
   "source": [
    "Sustituimos los nulos de Hourly_rate sustituir por el valor de sus vecinos usando una nueva columna y eliminamos la antigua"
   ]
  },
  {
   "cell_type": "code",
   "execution_count": null,
   "metadata": {},
   "outputs": [],
   "source": [
    "from sklearn.impute import KNNImputer\n",
    "imputer_knn = KNNImputer(n_neighbors = 5)\n",
    "hourly_rate_knn = imputer_knn.fit_transform(rh[[\"hourly_rate\"]])\n",
    "hourly_rate_knn\n",
    "rh[[\"hourly_rate_i\"]] = hourly_rate_knn\n",
    "rh[[\"hourly_rate_i\"]].isnull().sum()"
   ]
  },
  {
   "cell_type": "code",
   "execution_count": null,
   "metadata": {},
   "outputs": [],
   "source": [
    "columnas = ['hourly_rate']\n",
    "\n",
    "rh.drop(columnas, axis = 1, inplace = True)"
   ]
  },
  {
   "cell_type": "code",
   "execution_count": null,
   "metadata": {},
   "outputs": [],
   "source": [
    "rh.rename(columns = {'hourly_rate_i': 'hourly_rate'}, inplace = True)"
   ]
  },
  {
   "cell_type": "markdown",
   "metadata": {},
   "source": [
    "Comprobamos los porcentajes de nulos"
   ]
  },
  {
   "cell_type": "code",
   "execution_count": 12,
   "metadata": {},
   "outputs": [
    {
     "data": {
      "text/html": [
       "<div>\n",
       "<style scoped>\n",
       "    .dataframe tbody tr th:only-of-type {\n",
       "        vertical-align: middle;\n",
       "    }\n",
       "\n",
       "    .dataframe tbody tr th {\n",
       "        vertical-align: top;\n",
       "    }\n",
       "\n",
       "    .dataframe thead th {\n",
       "        text-align: right;\n",
       "    }\n",
       "</style>\n",
       "<table border=\"1\" class=\"dataframe\">\n",
       "  <thead>\n",
       "    <tr style=\"text-align: right;\">\n",
       "      <th></th>\n",
       "      <th>Porcentaje de Nulos</th>\n",
       "      <th>Tipos de Columnas</th>\n",
       "    </tr>\n",
       "  </thead>\n",
       "  <tbody>\n",
       "    <tr>\n",
       "      <th>age</th>\n",
       "      <td>0.000000</td>\n",
       "      <td>object</td>\n",
       "    </tr>\n",
       "    <tr>\n",
       "      <th>attrition</th>\n",
       "      <td>0.000000</td>\n",
       "      <td>object</td>\n",
       "    </tr>\n",
       "    <tr>\n",
       "      <th>business_travel</th>\n",
       "      <td>47.831475</td>\n",
       "      <td>object</td>\n",
       "    </tr>\n",
       "    <tr>\n",
       "      <th>daily_rate</th>\n",
       "      <td>7.682776</td>\n",
       "      <td>float64</td>\n",
       "    </tr>\n",
       "    <tr>\n",
       "      <th>department</th>\n",
       "      <td>81.288724</td>\n",
       "      <td>object</td>\n",
       "    </tr>\n",
       "    <tr>\n",
       "      <th>distance_from_home</th>\n",
       "      <td>0.000000</td>\n",
       "      <td>int64</td>\n",
       "    </tr>\n",
       "    <tr>\n",
       "      <th>education</th>\n",
       "      <td>0.000000</td>\n",
       "      <td>int64</td>\n",
       "    </tr>\n",
       "    <tr>\n",
       "      <th>education_field</th>\n",
       "      <td>46.158612</td>\n",
       "      <td>object</td>\n",
       "    </tr>\n",
       "    <tr>\n",
       "      <th>employee_number</th>\n",
       "      <td>26.703841</td>\n",
       "      <td>object</td>\n",
       "    </tr>\n",
       "    <tr>\n",
       "      <th>environment_satisfaction</th>\n",
       "      <td>0.000000</td>\n",
       "      <td>int64</td>\n",
       "    </tr>\n",
       "    <tr>\n",
       "      <th>gender</th>\n",
       "      <td>0.000000</td>\n",
       "      <td>object</td>\n",
       "    </tr>\n",
       "    <tr>\n",
       "      <th>hourly_rate</th>\n",
       "      <td>5.204461</td>\n",
       "      <td>float64</td>\n",
       "    </tr>\n",
       "    <tr>\n",
       "      <th>job_involvement</th>\n",
       "      <td>0.000000</td>\n",
       "      <td>int64</td>\n",
       "    </tr>\n",
       "    <tr>\n",
       "      <th>job_level</th>\n",
       "      <td>0.000000</td>\n",
       "      <td>int64</td>\n",
       "    </tr>\n",
       "    <tr>\n",
       "      <th>job_role</th>\n",
       "      <td>0.000000</td>\n",
       "      <td>object</td>\n",
       "    </tr>\n",
       "    <tr>\n",
       "      <th>job_satisfaction</th>\n",
       "      <td>0.000000</td>\n",
       "      <td>int64</td>\n",
       "    </tr>\n",
       "    <tr>\n",
       "      <th>marital_status</th>\n",
       "      <td>40.334572</td>\n",
       "      <td>object</td>\n",
       "    </tr>\n",
       "    <tr>\n",
       "      <th>monthly_income</th>\n",
       "      <td>52.230483</td>\n",
       "      <td>float64</td>\n",
       "    </tr>\n",
       "    <tr>\n",
       "      <th>monthly_rate</th>\n",
       "      <td>0.000000</td>\n",
       "      <td>int64</td>\n",
       "    </tr>\n",
       "    <tr>\n",
       "      <th>num_companies_worked</th>\n",
       "      <td>0.000000</td>\n",
       "      <td>int64</td>\n",
       "    </tr>\n",
       "    <tr>\n",
       "      <th>over_time</th>\n",
       "      <td>41.883519</td>\n",
       "      <td>object</td>\n",
       "    </tr>\n",
       "    <tr>\n",
       "      <th>percent_salary_hike</th>\n",
       "      <td>0.000000</td>\n",
       "      <td>int64</td>\n",
       "    </tr>\n",
       "    <tr>\n",
       "      <th>performance_rating</th>\n",
       "      <td>12.081784</td>\n",
       "      <td>float64</td>\n",
       "    </tr>\n",
       "    <tr>\n",
       "      <th>relationship_satisfaction</th>\n",
       "      <td>0.000000</td>\n",
       "      <td>int64</td>\n",
       "    </tr>\n",
       "    <tr>\n",
       "      <th>stock_option_level</th>\n",
       "      <td>0.000000</td>\n",
       "      <td>int64</td>\n",
       "    </tr>\n",
       "    <tr>\n",
       "      <th>total_working_years</th>\n",
       "      <td>32.589839</td>\n",
       "      <td>object</td>\n",
       "    </tr>\n",
       "    <tr>\n",
       "      <th>training_times_last_year</th>\n",
       "      <td>0.000000</td>\n",
       "      <td>int64</td>\n",
       "    </tr>\n",
       "    <tr>\n",
       "      <th>work_life_balance</th>\n",
       "      <td>6.691450</td>\n",
       "      <td>float64</td>\n",
       "    </tr>\n",
       "    <tr>\n",
       "      <th>years_at_company</th>\n",
       "      <td>0.000000</td>\n",
       "      <td>int64</td>\n",
       "    </tr>\n",
       "    <tr>\n",
       "      <th>years_since_last_promotion</th>\n",
       "      <td>0.000000</td>\n",
       "      <td>int64</td>\n",
       "    </tr>\n",
       "    <tr>\n",
       "      <th>years_with_curr_manager</th>\n",
       "      <td>0.000000</td>\n",
       "      <td>int64</td>\n",
       "    </tr>\n",
       "    <tr>\n",
       "      <th>role_departament</th>\n",
       "      <td>81.288724</td>\n",
       "      <td>object</td>\n",
       "    </tr>\n",
       "    <tr>\n",
       "      <th>remote_work</th>\n",
       "      <td>0.000000</td>\n",
       "      <td>object</td>\n",
       "    </tr>\n",
       "  </tbody>\n",
       "</table>\n",
       "</div>"
      ],
      "text/plain": [
       "                            Porcentaje de Nulos Tipos de Columnas\n",
       "age                                    0.000000            object\n",
       "attrition                              0.000000            object\n",
       "business_travel                       47.831475            object\n",
       "daily_rate                             7.682776           float64\n",
       "department                            81.288724            object\n",
       "distance_from_home                     0.000000             int64\n",
       "education                              0.000000             int64\n",
       "education_field                       46.158612            object\n",
       "employee_number                       26.703841            object\n",
       "environment_satisfaction               0.000000             int64\n",
       "gender                                 0.000000            object\n",
       "hourly_rate                            5.204461           float64\n",
       "job_involvement                        0.000000             int64\n",
       "job_level                              0.000000             int64\n",
       "job_role                               0.000000            object\n",
       "job_satisfaction                       0.000000             int64\n",
       "marital_status                        40.334572            object\n",
       "monthly_income                        52.230483           float64\n",
       "monthly_rate                           0.000000             int64\n",
       "num_companies_worked                   0.000000             int64\n",
       "over_time                             41.883519            object\n",
       "percent_salary_hike                    0.000000             int64\n",
       "performance_rating                    12.081784           float64\n",
       "relationship_satisfaction              0.000000             int64\n",
       "stock_option_level                     0.000000             int64\n",
       "total_working_years                   32.589839            object\n",
       "training_times_last_year               0.000000             int64\n",
       "work_life_balance                      6.691450           float64\n",
       "years_at_company                       0.000000             int64\n",
       "years_since_last_promotion             0.000000             int64\n",
       "years_with_curr_manager                0.000000             int64\n",
       "role_departament                      81.288724            object\n",
       "remote_work                            0.000000            object"
      ]
     },
     "execution_count": 12,
     "metadata": {},
     "output_type": "execute_result"
    }
   ],
   "source": [
    "info_columnas = pd.concat([(rh.isnull().sum() / rh.shape[0]) * 100, rh.dtypes], axis=1)\n",
    "info_columnas.columns = ['Porcentaje de Nulos','Tipos de Columnas']\n",
    "info_columnas"
   ]
  },
  {
   "cell_type": "markdown",
   "metadata": {},
   "source": [
    "Guardamos un nuevo .csv con los datos limpios"
   ]
  },
  {
   "cell_type": "code",
   "execution_count": null,
   "metadata": {},
   "outputs": [],
   "source": [
    "rh.to_csv('datos_limpios_final.csv')"
   ]
  }
 ],
 "metadata": {
  "kernelspec": {
   "display_name": "base",
   "language": "python",
   "name": "python3"
  },
  "language_info": {
   "codemirror_mode": {
    "name": "ipython",
    "version": 3
   },
   "file_extension": ".py",
   "mimetype": "text/x-python",
   "name": "python",
   "nbconvert_exporter": "python",
   "pygments_lexer": "ipython3",
   "version": "3.9.7"
  }
 },
 "nbformat": 4,
 "nbformat_minor": 2
}
